{
 "cells": [
  {
   "cell_type": "code",
   "execution_count": 1,
   "metadata": {},
   "outputs": [],
   "source": [
    "def Add(a,b):\n",
    "    c=a+b\n",
    "    return c"
   ]
  },
  {
   "cell_type": "code",
   "execution_count": 3,
   "metadata": {},
   "outputs": [
    {
     "name": "stdout",
     "output_type": "stream",
     "text": [
      "Add(10,20): 30\n"
     ]
    }
   ],
   "source": [
    "print(\"Add(10,20):\",Add(10,20))"
   ]
  },
  {
   "cell_type": "code",
   "execution_count": 7,
   "metadata": {},
   "outputs": [],
   "source": [
    "def isPrime(n):\n",
    "    for i in range(2,int(n/2)):\n",
    "        if n%i==0:\n",
    "            return 0\n",
    "    return 1"
   ]
  },
  {
   "cell_type": "code",
   "execution_count": 8,
   "metadata": {},
   "outputs": [
    {
     "name": "stdout",
     "output_type": "stream",
     "text": [
      "IsPrime(20): 0\n"
     ]
    }
   ],
   "source": [
    "print(\"IsPrime(20):\",isPrime(20))"
   ]
  },
  {
   "cell_type": "code",
   "execution_count": 9,
   "metadata": {},
   "outputs": [
    {
     "name": "stdout",
     "output_type": "stream",
     "text": [
      "Isprime(5): 1\n"
     ]
    }
   ],
   "source": [
    "print(\"Isprime(5):\",isPrime(5))"
   ]
  },
  {
   "cell_type": "code",
   "execution_count": 10,
   "metadata": {},
   "outputs": [],
   "source": [
    "def AddN(n):\n",
    "    s=sum(range(n+1))\n",
    "    return s"
   ]
  },
  {
   "cell_type": "code",
   "execution_count": 12,
   "metadata": {},
   "outputs": [
    {
     "name": "stdout",
     "output_type": "stream",
     "text": [
      "Sum is : 55\n"
     ]
    }
   ],
   "source": [
    "print(\"Sum is :\",AddN(10))"
   ]
  },
  {
   "cell_type": "code",
   "execution_count": 39,
   "metadata": {},
   "outputs": [],
   "source": [
    "def Add1(n,a):\n",
    "    s=sum(range(a,n+1,2))\n",
    "    return s\n",
    "          "
   ]
  },
  {
   "cell_type": "code",
   "execution_count": 40,
   "metadata": {},
   "outputs": [
    {
     "name": "stdout",
     "output_type": "stream",
     "text": [
      "Sum of even numbers 12\n",
      "Sum of odd numbers 16\n"
     ]
    }
   ],
   "source": [
    "print(\"Sum of even numbers\",Add1(7,0))\n",
    "print(\"Sum of odd numbers\",Add1(7,1))"
   ]
  },
  {
   "cell_type": "code",
   "execution_count": 22,
   "metadata": {},
   "outputs": [],
   "source": [
    "import math as m"
   ]
  },
  {
   "cell_type": "code",
   "execution_count": 24,
   "metadata": {},
   "outputs": [
    {
     "name": "stdout",
     "output_type": "stream",
     "text": [
      "2.061153622438558e-09\n",
      "46\n",
      "6.643856189774725\n",
      "78\n"
     ]
    }
   ],
   "source": [
    "print(m.exp(-20))\n",
    "print(m.ceil(45.7))\n",
    "print(m.log(100,2))\n",
    "print(m.floor(78.9))"
   ]
  },
  {
   "cell_type": "markdown",
   "metadata": {},
   "source": [
    "# String Manipulation"
   ]
  },
  {
   "cell_type": "code",
   "execution_count": 41,
   "metadata": {},
   "outputs": [
    {
     "name": "stdout",
     "output_type": "stream",
     "text": [
      "The first String: HEllo World\n",
      "The second String: Python Programming\n",
      "Python Progra\n",
      "var1-> HEllo\n",
      "var1-> HELLO WORLD\n",
      "var2-> python programming\n"
     ]
    }
   ],
   "source": [
    "var1=\"HEllo World\"   \n",
    "var2=\"Python Programming\"\n",
    "print(\"The first String:\",var1)\n",
    "print(\"The second String:\",var2)\n",
    "print(var2[:-5])\n",
    "print(\"var1->\",var1[0:5])\n",
    "print(\"var1->\",var1.upper())\n",
    "print(\"var2->\",var2.lower())"
   ]
  },
  {
   "cell_type": "code",
   "execution_count": 45,
   "metadata": {},
   "outputs": [
    {
     "name": "stdout",
     "output_type": "stream",
     "text": [
      "Length is  11\n",
      "Split is ['HEllo', 'World']\n",
      "3\n",
      "var1->count: 12\n",
      "dlroW ollEH\n",
      "var1->strip: HEllo World\n",
      "var2->strip: Python Programming\n"
     ]
    }
   ],
   "source": [
    "print(\"Length is \",len(var1))\n",
    "print(\"Split is\",var1.split())\n",
    "print(var1.count('l'))\n",
    "print(\"var1->count:\",var1.count(''))\n",
    "print(var1[::-1])\n",
    "print(\"var1->strip:\",var1.strip())\n",
    "print(\"var2->strip:\",var2.strip())"
   ]
  },
  {
   "cell_type": "markdown",
   "metadata": {},
   "source": [
    "# To check whether a given string is a palindrome"
   ]
  },
  {
   "cell_type": "code",
   "execution_count": 47,
   "metadata": {},
   "outputs": [
    {
     "name": "stdout",
     "output_type": "stream",
     "text": [
      "s1 is palindrome False\n",
      "s2 is palindrome True\n",
      "s3 is palindrome True\n"
     ]
    }
   ],
   "source": [
    "s1=\"Indian Army\"\n",
    "s2=\"malayalam\"\n",
    "s3=\"madam\"\n",
    "print(\"s1 is palindrome\",s1==s1[::-1])\n",
    "print(\"s2 is palindrome\",s2==s2[::-1])\n",
    "print(\"s3 is palindrome\",s3==s3[::-1])"
   ]
  },
  {
   "cell_type": "markdown",
   "metadata": {},
   "source": [
    "# Exception Handling"
   ]
  },
  {
   "cell_type": "code",
   "execution_count": 17,
   "metadata": {},
   "outputs": [
    {
     "name": "stdout",
     "output_type": "stream",
     "text": [
      "-20.0\n",
      "-25.0\n",
      "-33.333333333333336\n",
      "-50.0\n",
      "-100.0\n",
      "Error\n",
      "100.0\n",
      "50.0\n",
      "33.333333333333336\n",
      "25.0\n",
      "20.0\n"
     ]
    }
   ],
   "source": [
    "for i in range(-5,6):\n",
    "    try:\n",
    "        print(100/i)\n",
    "    except:\n",
    "        print(\"Error\")   #loop does not get stuck it only prints error for the specific i"
   ]
  },
  {
   "cell_type": "code",
   "execution_count": 18,
   "metadata": {},
   "outputs": [
    {
     "name": "stdout",
     "output_type": "stream",
     "text": [
      "1\n",
      "2\n",
      "3\n",
      "4\n",
      "5\n",
      "Error\n",
      "Error\n",
      "Error\n"
     ]
    }
   ],
   "source": [
    "L=[1,2,3,4,5]\n",
    "for i in range(8):\n",
    "    try:\n",
    "        print(L[i])\n",
    "    except:\n",
    "        print(\"Error\")"
   ]
  },
  {
   "cell_type": "code",
   "execution_count": 48,
   "metadata": {},
   "outputs": [
    {
     "name": "stdout",
     "output_type": "stream",
     "text": [
      "Enter the file nameimagebasic2\n",
      "File not found!!!\n"
     ]
    }
   ],
   "source": [
    "fileName=input(\"Enter the file name\")\n",
    "try:\n",
    "    fp=open(fileName)\n",
    "    fp.close()\n",
    "except:\n",
    "    print(\"File not found!!!\")"
   ]
  },
  {
   "cell_type": "code",
   "execution_count": 49,
   "metadata": {},
   "outputs": [
    {
     "name": "stdout",
     "output_type": "stream",
     "text": [
      "0.2337017987061829\n",
      "11\n",
      "38.7727191429145\n"
     ]
    }
   ],
   "source": [
    "import random\n",
    "print(random.random())\n",
    "print(random.randint(10,20))\n",
    "print(random.uniform(1,100))"
   ]
  },
  {
   "cell_type": "code",
   "execution_count": 51,
   "metadata": {},
   "outputs": [
    {
     "name": "stdout",
     "output_type": "stream",
     "text": [
      "[2, 4, 8, 3, 5]\n",
      "[85, 23]\n"
     ]
    }
   ],
   "source": [
    "a=[1,2,3,4,5,6,7,8,9]\n",
    "print(random.sample(a,5))\n",
    "print(random.sample(range(1,90),2)) #The second parameter is used to display the numbers of the digits"
   ]
  },
  {
   "cell_type": "code",
   "execution_count": 52,
   "metadata": {},
   "outputs": [
    {
     "name": "stdout",
     "output_type": "stream",
     "text": [
      "abcdefghijklmnopqrstuvwxyzABCDEFGHIJKLMNOPQRSTUVWXYZ\n",
      "['r', 'Y', 'j', 'C']\n"
     ]
    }
   ],
   "source": [
    "import string\n",
    "print(string.ascii_letters)\n",
    "print(random.sample(string.ascii_letters,4))"
   ]
  },
  {
   "cell_type": "code",
   "execution_count": 54,
   "metadata": {},
   "outputs": [
    {
     "name": "stdout",
     "output_type": "stream",
     "text": [
      "0123456789\n",
      "['1', '2', '0', '4']\n",
      "['3', 'w', 'y', 'f', 'q']\n"
     ]
    }
   ],
   "source": [
    "print(string.digits)\n",
    "print(random.sample(string.digits,4))\n",
    "print(random.sample(string.digits+string.ascii_letters,5))"
   ]
  },
  {
   "cell_type": "code",
   "execution_count": 26,
   "metadata": {},
   "outputs": [
    {
     "name": "stdout",
     "output_type": "stream",
     "text": [
      "Original List: ['Hello', 3.14, 5]\n",
      "3\n",
      "Hello\n",
      "3.14\n",
      "5\n",
      "New List: ['Hello', 3.14, 5, 'Hel']\n"
     ]
    }
   ],
   "source": [
    "l=[\"Hello\",3.14,5]\n",
    "print(\"Original List:\",l)\n",
    "print(len(l))\n",
    "for i in range(0,len(l)):\n",
    "    print(l[i])\n",
    "l.append(\"Hel\")\n",
    "\n",
    "print(\"New List:\",l)"
   ]
  },
  {
   "cell_type": "code",
   "execution_count": 55,
   "metadata": {},
   "outputs": [
    {
     "name": "stdout",
     "output_type": "stream",
     "text": [
      "The sum is: 31\n",
      "Average: 6.2\n",
      "Max number: 9\n",
      "After sort-> [3, 4, 7, 8, 9]\n"
     ]
    }
   ],
   "source": [
    "p=[9,7,8,3,4]\n",
    "print(\"The sum is:\",sum(p))\n",
    "print(\"Average:\",sum(p)/len(p))\n",
    "print(\"Max number:\",max(p))\n",
    "p.sort()\n",
    "print(\"After sort->\",p)"
   ]
  },
  {
   "cell_type": "markdown",
   "metadata": {},
   "source": [
    "# Dictionary"
   ]
  },
  {
   "cell_type": "code",
   "execution_count": 56,
   "metadata": {},
   "outputs": [
    {
     "name": "stdout",
     "output_type": "stream",
     "text": [
      "Dictionary: {1: 8, 2: 5.6, 3: 4.7, 4: 3.8}\n",
      "Length: 4\n",
      "Element at 1 8\n",
      "CGPA of 1 th element: 8\n",
      "CGPA of 2 th element: 5.6\n",
      "CGPA of 3 th element: 4.7\n",
      "CGPA of 4 th element: 3.8\n",
      "dict_keys([1, 2, 3, 4])\n",
      "dict_values([8, 5.6, 4.7, 3.8])\n"
     ]
    }
   ],
   "source": [
    "CGPA={1:8,2:5.6,3:4.7,4:3.8}\n",
    "print(\"Dictionary:\",CGPA)\n",
    "print(\"Length:\",len(CGPA))\n",
    "print(\"Element at 1\",CGPA[1])\n",
    "for k in CGPA:\n",
    "    print(\"CGPA of\",k,\"th element:\",CGPA[k])\n",
    "    \n",
    "print(CGPA.keys())\n",
    "print(CGPA.values())\n"
   ]
  },
  {
   "cell_type": "code",
   "execution_count": 58,
   "metadata": {},
   "outputs": [
    {
     "name": "stdout",
     "output_type": "stream",
     "text": [
      "True\n"
     ]
    }
   ],
   "source": [
    "#print(\"IS key 2 present\",CGPA.has_key(2))\n",
    "print(4 in CGPA)"
   ]
  },
  {
   "cell_type": "code",
   "execution_count": 63,
   "metadata": {},
   "outputs": [
    {
     "name": "stdout",
     "output_type": "stream",
     "text": [
      "Name of student for roll number 2: Reema\n"
     ]
    }
   ],
   "source": [
    "Class={1:\"Rahul\",2:\"Reema\",3:\"Neha\",4:\"YAsh\",5:\"Tina\",6:\"Ram\"}\n",
    "print(\"Name of student for roll number 2:\",Class[2])"
   ]
  },
  {
   "cell_type": "code",
   "execution_count": 65,
   "metadata": {},
   "outputs": [
    {
     "name": "stdout",
     "output_type": "stream",
     "text": [
      "Dictionary After Delete {}\n"
     ]
    }
   ],
   "source": [
    "Class.clear()\n",
    "print(\"Dictionary After Delete\",Class)"
   ]
  },
  {
   "cell_type": "markdown",
   "metadata": {},
   "source": [
    "# SET"
   ]
  },
  {
   "cell_type": "code",
   "execution_count": 36,
   "metadata": {},
   "outputs": [
    {
     "name": "stdout",
     "output_type": "stream",
     "text": [
      "{'b', 'd', 'c', 'e'}\n"
     ]
    }
   ],
   "source": [
    "b=set([\"a\",\"b\",\"c\",\"d\"])\n",
    "b.add(\"e\")\n",
    "b.remove('a')\n",
    "print(b)\n"
   ]
  },
  {
   "cell_type": "markdown",
   "metadata": {},
   "source": [
    "# Anonymous Function"
   ]
  },
  {
   "cell_type": "code",
   "execution_count": 68,
   "metadata": {},
   "outputs": [
    {
     "name": "stdout",
     "output_type": "stream",
     "text": [
      "Output\n",
      "10\n",
      "Output\n",
      "70\n",
      "60\n",
      "50\n"
     ]
    }
   ],
   "source": [
    "def printinfo(arg1,*vartuple):\n",
    "    print(\"Output\")\n",
    "    print(arg1)\n",
    "    for var in vartuple:\n",
    "        print(var)\n",
    "    return;\n",
    "\n",
    "printinfo(10)\n",
    "printinfo(70,60,50)\n"
   ]
  },
  {
   "cell_type": "code",
   "execution_count": 73,
   "metadata": {},
   "outputs": [
    {
     "name": "stdout",
     "output_type": "stream",
     "text": [
      "Value of total 200\n",
      "Value of Total 400\n",
      "Display Function\n",
      "BVCOE\n"
     ]
    }
   ],
   "source": [
    "sum=lambda arg1,arg2:arg1*arg2  # here the two arguments are being multiplied due to their definition and not being added \n",
    "display=lambda str1:str1;       #as per their name\n",
    "print(\"Value of total\",sum(10,20))\n",
    "print(\"Value of Total\",sum(20,20))\n",
    "print(\"Display Function\")\n",
    "str2=display(\"BVCOE\")\n",
    "print(str2)"
   ]
  },
  {
   "cell_type": "code",
   "execution_count": null,
   "metadata": {},
   "outputs": [],
   "source": []
  }
 ],
 "metadata": {
  "kernelspec": {
   "display_name": "Python 3",
   "language": "python",
   "name": "python3"
  },
  "language_info": {
   "codemirror_mode": {
    "name": "ipython",
    "version": 3
   },
   "file_extension": ".py",
   "mimetype": "text/x-python",
   "name": "python",
   "nbconvert_exporter": "python",
   "pygments_lexer": "ipython3",
   "version": "3.6.4"
  }
 },
 "nbformat": 4,
 "nbformat_minor": 2
}
