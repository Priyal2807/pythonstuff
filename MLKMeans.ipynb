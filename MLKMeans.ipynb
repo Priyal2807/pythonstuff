{
 "cells": [
  {
   "cell_type": "code",
   "execution_count": 2,
   "metadata": {},
   "outputs": [
    {
     "name": "stdout",
     "output_type": "stream",
     "text": [
      "     Color   Size      Act    Age Inflated\n",
      "0   YELLOW  SMALL  STRETCH  ADULT        T\n",
      "1   YELLOW  SMALL  STRETCH  CHILD        T\n",
      "2   YELLOW  SMALL      DIP  ADULT        T\n",
      "3   YELLOW  SMALL      DIP  CHILD        T\n",
      "4   YELLOW  SMALL  STRETCH  ADULT        T\n",
      "5   YELLOW  SMALL  STRETCH  CHILD        T\n",
      "6   YELLOW      ?      DIP  ADULT        T\n",
      "7   YELLOW  SMALL      DIP  CHILD        T\n",
      "8   YELLOW  LARGE  STRETCH  ADULT        F\n",
      "9   YELLOW  LARGE  STRETCH  CHILD        F\n",
      "10  YELLOW  LARGE      DIP  ADULT        F\n",
      "11  YELLOW  LARGE      DIP  CHILD        F\n",
      "12  PURPLE  SMALL  STRETCH  ADULT        F\n",
      "13  PURPLE  SMALL  STRETCH  CHILD        F\n",
      "14  PURPLE  SMALL      DIP  ADULT        F\n",
      "15  PURPLE  SMALL      DIP  CHILD        F\n",
      "16  PURPLE  LARGE  STRETCH  ADULT        F\n",
      "17  PURPLE  LARGE  STRETCH  CHILD        F\n",
      "18  PURPLE  LARGE      DIP  ADULT        F\n",
      "19  PURPLE  LARGE      DIP  CHILD        F\n",
      "     Color   Size      Act    Age Inflated\n",
      "0   YELLOW  SMALL  STRETCH  ADULT        T\n",
      "1   YELLOW  SMALL  STRETCH  CHILD        T\n",
      "2   YELLOW  SMALL      DIP  ADULT        T\n",
      "3   YELLOW  SMALL      DIP  CHILD        T\n",
      "4   YELLOW  SMALL  STRETCH  ADULT        T\n",
      "5   YELLOW  SMALL  STRETCH  CHILD        T\n",
      "6   YELLOW    NaN      DIP  ADULT        T\n",
      "7   YELLOW  SMALL      DIP  CHILD        T\n",
      "8   YELLOW  LARGE  STRETCH  ADULT        F\n",
      "9   YELLOW  LARGE  STRETCH  CHILD        F\n",
      "10  YELLOW  LARGE      DIP  ADULT        F\n",
      "11  YELLOW  LARGE      DIP  CHILD        F\n",
      "12  PURPLE  SMALL  STRETCH  ADULT        F\n",
      "13  PURPLE  SMALL  STRETCH  CHILD        F\n",
      "14  PURPLE  SMALL      DIP  ADULT        F\n",
      "15  PURPLE  SMALL      DIP  CHILD        F\n",
      "16  PURPLE  LARGE  STRETCH  ADULT        F\n",
      "17  PURPLE  LARGE  STRETCH  CHILD        F\n",
      "18  PURPLE  LARGE      DIP  ADULT        F\n",
      "19  PURPLE  LARGE      DIP  CHILD        F\n"
     ]
    }
   ],
   "source": [
    "import pandas as pd\n",
    "import numpy as np\n",
    "ds=pd.read_excel(\"C:/Users/PRIYAL SOBTIPRIYAL.1/Desktop/BalloonData.xlsx\")\n",
    "print(ds)\n",
    "ds=ds.replace('?',np.NAN)\n",
    "print(ds)"
   ]
  },
  {
   "cell_type": "code",
   "execution_count": 22,
   "metadata": {
    "scrolled": true
   },
   "outputs": [
    {
     "name": "stdout",
     "output_type": "stream",
     "text": [
      "[[1.16666667 1.46666667]\n",
      " [7.33333333 9.        ]]\n",
      "[0 1 0 1 0 1]\n",
      "coordinate: [1. 2.] label 0\n",
      "coordinate: [5. 8.] label 1\n",
      "coordinate: [1.5 1.8] label 0\n",
      "coordinate: [8. 8.] label 1\n",
      "coordinate: [1.  0.6] label 0\n",
      "coordinate: [ 9. 11.] label 1\n"
     ]
    },
    {
     "data": {
      "image/png": "[encoded data removed]",
      "text/plain": [
       "<matplotlib.figure.Figure at 0x1fa856269e8>"
      ]
     },
     "metadata": {},
     "output_type": "display_data"
    }
   ],
   "source": [
    "import matplotlib.pyplot as plt\n",
    "style.use(\"ggplot\")\n",
    "from sklearn.cluster import KMeans\n",
    "X=np.array([[1,2],\n",
    "[5,8],\n",
    "[1.5,1.8],\n",
    "[8,8],\n",
    "[1,0.6],\n",
    "[9,11]])\n",
    "kmeans=KMeans(n_clusters=2)\n",
    "kmeans.fit(X)\n",
    "centroids=kmeans.cluster_centers_\n",
    "labels=kmeans.labels_\n",
    "print(centroids)\n",
    "print(labels)\n",
    "colors=[\"g.\",\"r\"]\n",
    "for i in range (len(X)):\n",
    "    print(\"coordinate:\",X[i],\"label\",labels[i])\n",
    "    plt.plot(X[i][0],X[i][1],colors[labels[i]],markersize=10)\n",
    "plt.scatter(centroids[:,0],centroids[:,1],marker=\"x\",s=150,linewidths=5,zorder=10)\n",
    "plt.show()\n"
   ]
  },
  {
   "cell_type": "code",
   "execution_count": null,
   "metadata": {},
   "outputs": [],
   "source": []
  }
 ],
 "metadata": {
  "kernelspec": {
   "display_name": "Python 3",
   "language": "python",
   "name": "python3"
  },
  "language_info": {
   "codemirror_mode": {
    "name": "ipython",
    "version": 3
   },
   "file_extension": ".py",
   "mimetype": "text/x-python",
   "name": "python",
   "nbconvert_exporter": "python",
   "pygments_lexer": "ipython3",
   "version": "3.6.4"
  }
 },
 "nbformat": 4,
 "nbformat_minor": 2
}
