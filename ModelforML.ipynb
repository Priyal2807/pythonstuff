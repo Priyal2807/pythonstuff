{
 "cells": [
  {
   "cell_type": "code",
   "execution_count": 1,
   "metadata": {},
   "outputs": [
    {
     "name": "stderr",
     "output_type": "stream",
     "text": [
      "D:\\Anaconda\\lib\\site-packages\\sklearn\\cross_validation.py:41: DeprecationWarning: This module was deprecated in version 0.18 in favor of the model_selection module into which all the refactored classes and functions are moved. Also note that the interface of the new CV iterators are different from that of this module. This module will be removed in 0.20.\n",
      "  \"This module will be removed in 0.20.\", DeprecationWarning)\n"
     ]
    }
   ],
   "source": [
    "import numpy as np\n",
    "from sklearn import datasets,cross_validation\n",
    "from sklearn.linear_model import LinearRegression"
   ]
  },
  {
   "cell_type": "code",
   "execution_count": 3,
   "metadata": {},
   "outputs": [
    {
     "name": "stdout",
     "output_type": "stream",
     "text": [
      "[20.53594652 26.05726097 20.51071527 40.61015432 20.19479189 21.70631967\n",
      " 22.21115088 22.49879015 31.44972267 12.28796334 21.87542508 36.17207723\n",
      " 15.99603293 38.58108535  1.80972992 39.7871188  36.82903594 19.4679248\n",
      " 28.3106065  16.12805706 22.24057909 12.70464522 24.93794005 35.42983288\n",
      " 17.7956451  20.6963871  23.8153597  28.26352565 25.08255829 28.12872207\n",
      " 18.4131818  17.11510098 23.13860543 23.68299633 25.16072631 17.20854644\n",
      " 17.1264371  17.48210964 26.15765379 22.45132536 26.29609629 31.87798609\n",
      " 26.83053337 21.94982112  8.98065607 10.50158559 31.46363132 30.68822169\n",
      " 25.30780754 21.43453601 25.46942024 33.80141628 30.31740595 25.37800404\n",
      " 19.71099132 21.77685153 34.17493836 26.25742096  9.93559197 31.89736922\n",
      " 21.33590273 18.65263249 19.50986766 28.49112273 14.01954072 28.05216911\n",
      " 12.93058015 11.7597894  19.16184194 30.71629187 24.54354743 23.89608327\n",
      " 17.69712728 15.63787194 34.69564124 17.13850962 13.62388516 25.33135311\n",
      " 12.13935095 28.17942622 41.02149876 19.09927582 32.77724768 38.98930709\n",
      " 17.05397227 28.81728388 21.54140277 18.17796282 12.04413344 20.7901184\n",
      " 32.24305332 32.4219008  13.35293792 28.55518181 24.4436409  30.39895612\n",
      " 35.275877    9.83954254  8.52371513 34.93822625 37.15755194 21.29249261]\n"
     ]
    }
   ],
   "source": [
    "boston=datasets.load_boston()\n",
    "boston_x=boston.data\n",
    "boston_y=boston.target\n",
    "x_train,x_test,y_train,y_test=cross_validation.train_test_split(boston_x,boston_y,test_size=0.2)\n",
    "clf=LinearRegression()\n",
    "clf.fit(x_train,y_train)\n",
    "p=clf.predict(x_test)\n",
    "print(p)"
   ]
  },
  {
   "cell_type": "code",
   "execution_count": 5,
   "metadata": {},
   "outputs": [
    {
     "data": {
      "image/png": "[encoded data removed]",
      "text/plain": [
       "<matplotlib.figure.Figure at 0x22eec53abe0>"
      ]
     },
     "metadata": {},
     "output_type": "display_data"
    }
   ],
   "source": [
    "import matplotlib.pyplot as plt\n",
    "from matplotlib import style\n",
    "style.use(\"ggplot\")\n",
    "x=np.random.random((1,10))\n",
    "y=np.random.random((1,10))\n",
    "plt.scatter(x,y)\n",
    "plt.show()"
   ]
  },
  {
   "cell_type": "code",
   "execution_count": null,
   "metadata": {},
   "outputs": [],
   "source": []
  }
 ],
 "metadata": {
  "kernelspec": {
   "display_name": "Python 3",
   "language": "python",
   "name": "python3"
  },
  "language_info": {
   "codemirror_mode": {
    "name": "ipython",
    "version": 3
   },
   "file_extension": ".py",
   "mimetype": "text/x-python",
   "name": "python",
   "nbconvert_exporter": "python",
   "pygments_lexer": "ipython3",
   "version": "3.6.4"
  }
 },
 "nbformat": 4,
 "nbformat_minor": 2
}
