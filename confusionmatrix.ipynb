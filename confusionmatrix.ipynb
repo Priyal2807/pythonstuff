{
 "cells": [
  {
   "cell_type": "code",
   "execution_count": 1,
   "metadata": {},
   "outputs": [
    {
     "name": "stderr",
     "output_type": "stream",
     "text": [
      "D:\\Anaconda\\lib\\site-packages\\sklearn\\metrics\\classification.py:1135: UndefinedMetricWarning: Precision and F-score are ill-defined and being set to 0.0 in labels with no predicted samples.\n",
      "  'precision', 'predicted', average, warn_for)\n"
     ]
    },
    {
     "name": "stdout",
     "output_type": "stream",
     "text": [
      "             precision    recall  f1-score   support\n",
      "\n",
      "        ant       0.67      1.00      0.80         2\n",
      "       bird       0.00      0.00      0.00         1\n",
      "        cat       0.67      0.67      0.67         3\n",
      "\n",
      "avg / total       0.56      0.67      0.60         6\n",
      "\n",
      "[[2 0 0]\n",
      " [1 2 0]\n",
      " [0 1 0]]\n"
     ]
    }
   ],
   "source": [
    "from sklearn.metrics import confusion_matrix\n",
    "from sklearn import metrics\n",
    "import matplotlib.pyplot as plt\n",
    "import numpy as np\n",
    "y_true=[\"cat\",\"ant\",\"cat\",\"cat\",\"ant\",\"bird\"]\n",
    "y_pred=[\"ant\",\"ant\",\"cat\",\"cat\",\"ant\",\"cat\"]\n",
    "cm=confusion_matrix(y_true,y_pred,labels=[\"ant\",\"cat\",\"bird\"])   #Confusion Matrix\n",
    "print(metrics.classification_report(y_true,y_pred))\n",
    "print(cm)"
   ]
  },
  {
   "cell_type": "code",
   "execution_count": 2,
   "metadata": {},
   "outputs": [
    {
     "name": "stdout",
     "output_type": "stream",
     "text": [
      "1.25\n",
      "4.25\n"
     ]
    }
   ],
   "source": [
    "y_true=[3,2,2,4]\n",
    "y_pred=[3,1,2,8]\n",
    "print(metrics.mean_absolute_error(y_true,y_pred))\n",
    "print(metrics.mean_squared_error(y_true,y_pred))"
   ]
  },
  {
   "cell_type": "code",
   "execution_count": null,
   "metadata": {},
   "outputs": [],
   "source": []
  }
 ],
 "metadata": {
  "kernelspec": {
   "display_name": "Python 3",
   "language": "python",
   "name": "python3"
  },
  "language_info": {
   "codemirror_mode": {
    "name": "ipython",
    "version": 3
   },
   "file_extension": ".py",
   "mimetype": "text/x-python",
   "name": "python",
   "nbconvert_exporter": "python",
   "pygments_lexer": "ipython3",
   "version": "3.6.4"
  }
 },
 "nbformat": 4,
 "nbformat_minor": 2
}
