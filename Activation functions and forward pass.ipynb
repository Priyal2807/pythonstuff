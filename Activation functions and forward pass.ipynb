{
 "cells": [
  {
   "cell_type": "markdown",
   "metadata": {},
   "source": [
    "# Activation functions used in Neural Networks"
   ]
  },
  {
   "cell_type": "code",
   "execution_count": null,
   "metadata": {},
   "outputs": [],
   "source": [
    "def actFunc(haha,choose):\n",
    "    if choose==1:\n",
    "        return (1/(1+np.exp(haha)))\n",
    "    elif choose==2:\n",
    "        return np.max(0,haha)\n",
    "    elif choose==3:\n",
    "        return np.tanh(haha)\n",
    "    elif choose==4:\n",
    "        temp=np.exp(haha)\n",
    "        return temp/np.sum(temp,axis=1,keepdims=True)"
   ]
  },
  {
   "cell_type": "markdown",
   "metadata": {},
   "source": [
    "# Forward Pass"
   ]
  },
  {
   "cell_type": "code",
   "execution_count": null,
   "metadata": {},
   "outputs": [],
   "source": [
    "def forwardPass(Data):\n",
    "    a0=Data;\n",
    "    z1=np.dot(a0,w1)+b1\n",
    "    a1=actFunc(z1,3)\n",
    "    z2=np.dot(a1,w2)+b2\n",
    "    a2=actFunc(z2,4)\n",
    "    return a0,z1,a1,z2,a2"
   ]
  }
 ],
 "metadata": {
  "kernelspec": {
   "display_name": "Python 3",
   "language": "python",
   "name": "python3"
  },
  "language_info": {
   "codemirror_mode": {
    "name": "ipython",
    "version": 3
   },
   "file_extension": ".py",
   "mimetype": "text/x-python",
   "name": "python",
   "nbconvert_exporter": "python",
   "pygments_lexer": "ipython3",
   "version": "3.6.4"
  }
 },
 "nbformat": 4,
 "nbformat_minor": 2
}
